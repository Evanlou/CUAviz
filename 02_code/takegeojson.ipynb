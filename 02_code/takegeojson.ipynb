{
 "cells": [
  {
   "cell_type": "code",
   "execution_count": 13,
   "id": "6a9fd3ac-2032-49af-9aab-e30b6e640fd0",
   "metadata": {
    "tags": []
   },
   "outputs": [],
   "source": [
    "import numpy as np\n",
    "from shapely.geometry import Polygon\n",
    "import geopandas as gpd"
   ]
  },
  {
   "cell_type": "code",
   "execution_count": 14,
   "id": "899d2fdc",
   "metadata": {},
   "outputs": [],
   "source": [
    "import pandas as pd"
   ]
  },
  {
   "cell_type": "code",
   "execution_count": 15,
   "id": "7d6da64b-01ac-4351-a983-e23eb077d067",
   "metadata": {},
   "outputs": [],
   "source": [
    "gdf = gpd.read_file('../03_data/raw_0423/grid_6th_ring/grid_6th_ring.shp')"
   ]
  },
  {
   "cell_type": "code",
   "execution_count": 16,
   "id": "2369de62",
   "metadata": {},
   "outputs": [],
   "source": [
    "df = pd.read_csv('../03_data/raw_0423/df_export_1005.csv')"
   ]
  },
  {
   "cell_type": "code",
   "execution_count": 17,
   "id": "535023cd",
   "metadata": {},
   "outputs": [],
   "source": [
    "import pandas as pd\n",
    "\n",
    "# 假设您的 GeoDataFrame 名称为 gdf，DataFrame 名称为 df\n",
    "merged_df = pd.merge(gdf, df, on='id', how='left')  # 按 'index' 列合并两个 DataFrame，使用左连接\n",
    "# merged_df.fillna(merged_df.mean(), inplace=True)  # 使用均值填充缺失值\n"
   ]
  },
  {
   "cell_type": "code",
   "execution_count": 18,
   "id": "5540f71d",
   "metadata": {},
   "outputs": [],
   "source": [
    "import geopandas as gpd\n",
    "\n",
    "# 假设您的 GeoDataFrame 名称为 gdf\n",
    "merged_df.fillna(0, inplace=True)  # 使用 0 填充缺失值\n"
   ]
  },
  {
   "cell_type": "code",
   "execution_count": 19,
   "id": "034ab22e",
   "metadata": {},
   "outputs": [],
   "source": [
    "after_gdf = merged_df[['id','v_pop', 'v_resi','v_activity','v_business','v_facility','v_street_quality','geometry']]"
   ]
  },
  {
   "cell_type": "code",
   "execution_count": 20,
   "id": "765c41ef",
   "metadata": {},
   "outputs": [],
   "source": [
    "after_gdf.to_file('../03_data/after_gdf.geojson')\n"
   ]
  },
  {
   "cell_type": "code",
   "execution_count": 24,
   "id": "15d3abba",
   "metadata": {},
   "outputs": [
    {
     "data": {
      "text/html": [
       "<div>\n",
       "<style scoped>\n",
       "    .dataframe tbody tr th:only-of-type {\n",
       "        vertical-align: middle;\n",
       "    }\n",
       "\n",
       "    .dataframe tbody tr th {\n",
       "        vertical-align: top;\n",
       "    }\n",
       "\n",
       "    .dataframe thead th {\n",
       "        text-align: right;\n",
       "    }\n",
       "</style>\n",
       "<table border=\"1\" class=\"dataframe\">\n",
       "  <thead>\n",
       "    <tr style=\"text-align: right;\">\n",
       "      <th></th>\n",
       "      <th>id</th>\n",
       "      <th>v_pop</th>\n",
       "      <th>v_resi</th>\n",
       "      <th>v_activity</th>\n",
       "      <th>v_business</th>\n",
       "      <th>v_facility</th>\n",
       "      <th>v_street_quality</th>\n",
       "      <th>geometry</th>\n",
       "    </tr>\n",
       "  </thead>\n",
       "  <tbody>\n",
       "    <tr>\n",
       "      <th>0</th>\n",
       "      <td>40</td>\n",
       "      <td>0.000000</td>\n",
       "      <td>0.000000</td>\n",
       "      <td>0.000000</td>\n",
       "      <td>0.000000</td>\n",
       "      <td>0.000000</td>\n",
       "      <td>0.000000</td>\n",
       "      <td>POLYGON ((116.08630 39.99114, 116.08627 39.991...</td>\n",
       "    </tr>\n",
       "    <tr>\n",
       "      <th>1</th>\n",
       "      <td>41</td>\n",
       "      <td>0.000000</td>\n",
       "      <td>0.000000</td>\n",
       "      <td>0.000000</td>\n",
       "      <td>0.000000</td>\n",
       "      <td>0.000000</td>\n",
       "      <td>0.000000</td>\n",
       "      <td>POLYGON ((116.08714 39.98664, 116.08706 39.987...</td>\n",
       "    </tr>\n",
       "    <tr>\n",
       "      <th>2</th>\n",
       "      <td>42</td>\n",
       "      <td>0.000000</td>\n",
       "      <td>0.000000</td>\n",
       "      <td>0.000000</td>\n",
       "      <td>0.000000</td>\n",
       "      <td>0.000000</td>\n",
       "      <td>0.000000</td>\n",
       "      <td>POLYGON ((116.08717 39.98645, 116.08714 39.986...</td>\n",
       "    </tr>\n",
       "    <tr>\n",
       "      <th>3</th>\n",
       "      <td>89</td>\n",
       "      <td>0.072446</td>\n",
       "      <td>0.582489</td>\n",
       "      <td>0.000000</td>\n",
       "      <td>0.000000</td>\n",
       "      <td>0.678576</td>\n",
       "      <td>0.000000</td>\n",
       "      <td>POLYGON ((116.09001 39.77230, 116.09000 39.772...</td>\n",
       "    </tr>\n",
       "    <tr>\n",
       "      <th>4</th>\n",
       "      <td>92</td>\n",
       "      <td>0.078704</td>\n",
       "      <td>0.591413</td>\n",
       "      <td>0.000000</td>\n",
       "      <td>0.000000</td>\n",
       "      <td>0.726596</td>\n",
       "      <td>0.000000</td>\n",
       "      <td>POLYGON ((116.09010 39.75691, 116.09018 39.758...</td>\n",
       "    </tr>\n",
       "    <tr>\n",
       "      <th>...</th>\n",
       "      <td>...</td>\n",
       "      <td>...</td>\n",
       "      <td>...</td>\n",
       "      <td>...</td>\n",
       "      <td>...</td>\n",
       "      <td>...</td>\n",
       "      <td>...</td>\n",
       "      <td>...</td>\n",
       "    </tr>\n",
       "    <tr>\n",
       "      <th>9246</th>\n",
       "      <td>11618</td>\n",
       "      <td>0.024580</td>\n",
       "      <td>0.604979</td>\n",
       "      <td>0.011584</td>\n",
       "      <td>0.000000</td>\n",
       "      <td>0.707125</td>\n",
       "      <td>0.000000</td>\n",
       "      <td>POLYGON ((116.70918 39.89977, 116.70920 39.899...</td>\n",
       "    </tr>\n",
       "    <tr>\n",
       "      <th>9247</th>\n",
       "      <td>11619</td>\n",
       "      <td>0.036880</td>\n",
       "      <td>0.597523</td>\n",
       "      <td>0.099237</td>\n",
       "      <td>0.000000</td>\n",
       "      <td>0.685432</td>\n",
       "      <td>0.000000</td>\n",
       "      <td>POLYGON ((116.71024 39.89527, 116.71129 39.890...</td>\n",
       "    </tr>\n",
       "    <tr>\n",
       "      <th>9248</th>\n",
       "      <td>11620</td>\n",
       "      <td>0.052923</td>\n",
       "      <td>0.589451</td>\n",
       "      <td>0.088852</td>\n",
       "      <td>0.058714</td>\n",
       "      <td>0.673459</td>\n",
       "      <td>0.000000</td>\n",
       "      <td>POLYGON ((116.71129 39.89077, 116.71158 39.889...</td>\n",
       "    </tr>\n",
       "    <tr>\n",
       "      <th>9249</th>\n",
       "      <td>11621</td>\n",
       "      <td>0.032195</td>\n",
       "      <td>0.503333</td>\n",
       "      <td>0.001464</td>\n",
       "      <td>0.058714</td>\n",
       "      <td>0.678451</td>\n",
       "      <td>0.648745</td>\n",
       "      <td>POLYGON ((116.71155 39.88626, 116.71152 39.886...</td>\n",
       "    </tr>\n",
       "    <tr>\n",
       "      <th>9250</th>\n",
       "      <td>11622</td>\n",
       "      <td>0.095218</td>\n",
       "      <td>0.615736</td>\n",
       "      <td>0.000000</td>\n",
       "      <td>0.000000</td>\n",
       "      <td>0.687718</td>\n",
       "      <td>0.000000</td>\n",
       "      <td>POLYGON ((116.70920 39.88175, 116.70839 39.880...</td>\n",
       "    </tr>\n",
       "  </tbody>\n",
       "</table>\n",
       "<p>9251 rows × 8 columns</p>\n",
       "</div>"
      ],
      "text/plain": [
       "         id     v_pop    v_resi  v_activity  v_business  v_facility   \n",
       "0        40  0.000000  0.000000    0.000000    0.000000    0.000000  \\\n",
       "1        41  0.000000  0.000000    0.000000    0.000000    0.000000   \n",
       "2        42  0.000000  0.000000    0.000000    0.000000    0.000000   \n",
       "3        89  0.072446  0.582489    0.000000    0.000000    0.678576   \n",
       "4        92  0.078704  0.591413    0.000000    0.000000    0.726596   \n",
       "...     ...       ...       ...         ...         ...         ...   \n",
       "9246  11618  0.024580  0.604979    0.011584    0.000000    0.707125   \n",
       "9247  11619  0.036880  0.597523    0.099237    0.000000    0.685432   \n",
       "9248  11620  0.052923  0.589451    0.088852    0.058714    0.673459   \n",
       "9249  11621  0.032195  0.503333    0.001464    0.058714    0.678451   \n",
       "9250  11622  0.095218  0.615736    0.000000    0.000000    0.687718   \n",
       "\n",
       "      v_street_quality                                           geometry  \n",
       "0             0.000000  POLYGON ((116.08630 39.99114, 116.08627 39.991...  \n",
       "1             0.000000  POLYGON ((116.08714 39.98664, 116.08706 39.987...  \n",
       "2             0.000000  POLYGON ((116.08717 39.98645, 116.08714 39.986...  \n",
       "3             0.000000  POLYGON ((116.09001 39.77230, 116.09000 39.772...  \n",
       "4             0.000000  POLYGON ((116.09010 39.75691, 116.09018 39.758...  \n",
       "...                ...                                                ...  \n",
       "9246          0.000000  POLYGON ((116.70918 39.89977, 116.70920 39.899...  \n",
       "9247          0.000000  POLYGON ((116.71024 39.89527, 116.71129 39.890...  \n",
       "9248          0.000000  POLYGON ((116.71129 39.89077, 116.71158 39.889...  \n",
       "9249          0.648745  POLYGON ((116.71155 39.88626, 116.71152 39.886...  \n",
       "9250          0.000000  POLYGON ((116.70920 39.88175, 116.70839 39.880...  \n",
       "\n",
       "[9251 rows x 8 columns]"
      ]
     },
     "execution_count": 24,
     "metadata": {},
     "output_type": "execute_result"
    }
   ],
   "source": [
    "after_gdf\n"
   ]
  },
  {
   "cell_type": "code",
   "execution_count": 21,
   "id": "51077f40",
   "metadata": {},
   "outputs": [
    {
     "name": "stderr",
     "output_type": "stream",
     "text": [
      "/Users/sakai/opt/anaconda3/envs/cuaviz/lib/python3.9/site-packages/geopandas/geodataframe.py:1443: SettingWithCopyWarning: \n",
      "A value is trying to be set on a copy of a slice from a DataFrame.\n",
      "Try using .loc[row_indexer,col_indexer] = value instead\n",
      "\n",
      "See the caveats in the documentation: https://pandas.pydata.org/pandas-docs/stable/user_guide/indexing.html#returning-a-view-versus-a-copy\n",
      "  super().__setitem__(key, value)\n"
     ]
    }
   ],
   "source": [
    "from sklearn.preprocessing import MinMaxScaler\n",
    "import pandas as pd\n",
    "\n",
    "after_st_gdf = after_gdf\n",
    "\n",
    "# 假设您的 DataFrame 名称为 df，需要进行归一化的列为 'v_pop', 'v_resi','v_activity','v_business','v_facility','v_street_quality'\n",
    "columns_to_normalize = ['v_pop', 'v_resi','v_activity','v_business','v_facility','v_street_quality']\n",
    "\n",
    "scaler = MinMaxScaler()  # 创建 MinMaxScaler 实例\n",
    "after_st_gdf[columns_to_normalize] = scaler.fit_transform(after_st_gdf[columns_to_normalize])  # 将需要归一化的列进行归一化\n"
   ]
  },
  {
   "cell_type": "code",
   "execution_count": 22,
   "id": "190bb900",
   "metadata": {},
   "outputs": [],
   "source": [
    "after_st_gdf.to_file('../03_data/after_st_gdf.geojson')"
   ]
  },
  {
   "cell_type": "code",
   "execution_count": 25,
   "id": "1c3c1e4b",
   "metadata": {},
   "outputs": [
    {
     "name": "stderr",
     "output_type": "stream",
     "text": [
      "/Users/sakai/opt/anaconda3/envs/cuaviz/lib/python3.9/site-packages/geopandas/geodataframe.py:1443: SettingWithCopyWarning: \n",
      "A value is trying to be set on a copy of a slice from a DataFrame.\n",
      "Try using .loc[row_indexer,col_indexer] = value instead\n",
      "\n",
      "See the caveats in the documentation: https://pandas.pydata.org/pandas-docs/stable/user_guide/indexing.html#returning-a-view-versus-a-copy\n",
      "  super().__setitem__(key, value)\n"
     ]
    }
   ],
   "source": [
    "for i in ['v_pop', 'v_resi','v_activity','v_business','v_facility','v_street_quality']:\n",
    "    after_gdf[i] = 100* after_gdf[i]\n"
   ]
  },
  {
   "cell_type": "code",
   "execution_count": 27,
   "id": "cb2f087e",
   "metadata": {},
   "outputs": [],
   "source": [
    "after_gdf.to_file('../03_data/after_gdf.geojson')"
   ]
  },
  {
   "cell_type": "code",
   "execution_count": null,
   "id": "beab8e02",
   "metadata": {},
   "outputs": [],
   "source": []
  }
 ],
 "metadata": {
  "kernelspec": {
   "display_name": "cuaviz",
   "language": "python",
   "name": "python3"
  },
  "language_info": {
   "codemirror_mode": {
    "name": "ipython",
    "version": 3
   },
   "file_extension": ".py",
   "mimetype": "text/x-python",
   "name": "python",
   "nbconvert_exporter": "python",
   "pygments_lexer": "ipython3",
   "version": "3.9.16"
  },
  "vscode": {
   "interpreter": {
    "hash": "e6bdf11d2a4019867be91e08474ebc26853b810e92ccf0cdcf1c212aad466720"
   }
  }
 },
 "nbformat": 4,
 "nbformat_minor": 5
}
